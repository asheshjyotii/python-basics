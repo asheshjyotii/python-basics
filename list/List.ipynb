{
 "cells": [
  {
   "cell_type": "markdown",
   "id": "e7a7701b-9a7f-4b3f-8141-3a01a0d75fbc",
   "metadata": {},
   "source": [
    "# Lists"
   ]
  },
  {
   "cell_type": "markdown",
   "id": "717ae2ce-839e-45f2-830a-4a5d02632082",
   "metadata": {},
   "source": [
    "## Adding a list in an existing list"
   ]
  },
  {
   "cell_type": "code",
   "execution_count": 1,
   "id": "b208cefc-321e-49cd-bf82-2b8abd197ad6",
   "metadata": {},
   "outputs": [],
   "source": [
    "list_1 = [1,2,3,4]\n",
    "list_2 = ['A','B','C']"
   ]
  },
  {
   "cell_type": "markdown",
   "id": "19225ce8-6ae9-4634-b318-09a2bd8ca749",
   "metadata": {},
   "source": [
    "## Adding list_1 in list_2 :\n",
    "There are two methods:\n",
    "1. Using the `+` concatenation method \n",
    "2. Using the extend() method\n",
    "\n",
    "**Using `+` is more computationally expensive while using extend() is much more faster**"
   ]
  },
  {
   "cell_type": "code",
   "execution_count": 4,
   "id": "a3078b39-1709-43ff-9e5b-ef5abe09be6b",
   "metadata": {},
   "outputs": [
    {
     "name": "stdout",
     "output_type": "stream",
     "text": [
      "[1, 2, 3, 4, 'A', 'B', 'C']\n"
     ]
    }
   ],
   "source": [
    "new_list = list_1 + list_2\n",
    "print(new_list) # concates the both list but takes time"
   ]
  },
  {
   "cell_type": "code",
   "execution_count": 6,
   "id": "3d0495d5-92d0-4186-b60c-db22412ad4ed",
   "metadata": {},
   "outputs": [
    {
     "name": "stdout",
     "output_type": "stream",
     "text": [
      "[1, 2, 3, 4, 'A', 'B', 'C', 'A', 'B', 'C']\n"
     ]
    }
   ],
   "source": [
    "list_1.extend(list_2)\n",
    "print(list_1)"
   ]
  },
  {
   "cell_type": "code",
   "execution_count": null,
   "id": "e47975da-b5dc-4a24-9e29-6d41250e8f5e",
   "metadata": {},
   "outputs": [],
   "source": []
  }
 ],
 "metadata": {
  "kernelspec": {
   "display_name": "Python 3 (ipykernel)",
   "language": "python",
   "name": "python3"
  },
  "language_info": {
   "codemirror_mode": {
    "name": "ipython",
    "version": 3
   },
   "file_extension": ".py",
   "mimetype": "text/x-python",
   "name": "python",
   "nbconvert_exporter": "python",
   "pygments_lexer": "ipython3",
   "version": "3.11.7"
  }
 },
 "nbformat": 4,
 "nbformat_minor": 5
}
